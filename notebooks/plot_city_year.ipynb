{
 "cells": [
  {
   "cell_type": "code",
   "execution_count": null,
   "id": "7f597d8f-19a9-4c21-af53-157ac5cac7bc",
   "metadata": {},
   "outputs": [],
   "source": [
    "from functools import partial\n",
    "\n",
    "import pandas as pd\n",
    "import plotly.express as px\n",
    "import sparql_dataframe"
   ]
  },
  {
   "cell_type": "code",
   "execution_count": null,
   "id": "cc58f907-187f-440c-bf43-f978aba4c0bc",
   "metadata": {
    "jupyter": {
     "source_hidden": true
    }
   },
   "outputs": [],
   "source": [
    "Q_CESAR_TEMPLATE = \"\"\"\n",
    "\n",
    "        PREFIX owl: <http://www.w3.org/2002/07/owl#>\n",
    "        PREFIX rdf: <http://www.w3.org/1999/02/22-rdf-syntax-ns#>\n",
    "        PREFIX xml: <http://www.w3.org/XML/1998/namespace>\n",
    "        PREFIX xsd: <http://www.w3.org/2001/XMLSchema#>\n",
    "        PREFIX ecrm: <http://erlangen-crm.org/current/>\n",
    "        PREFIX crmpc: <http://dramabase/ontology/crm_property_classes/>\n",
    "        PREFIX rdfs: <http://www.w3.org/2000/01/rdf-schema#>\n",
    "        PREFIX efrbroo: <http://erlangen-crm.org/efrbroo/>\n",
    "        PREFIX dram: <http://dramabase/ontology/>\n",
    "        PREFIX dc: <http://purl.org/dc/elements/1.1/>\n",
    "          PREFIX dcterms: <http://purl.org/dc/terms/>\n",
    "        PREFIX foaf: <http://xmlns.com/foaf/0.1/>\n",
    "\n",
    "\n",
    "\n",
    "SELECT ?dates (count(?dates) as ?oc) (?parent_label as ?lieux)\n",
    "                # (group_concat(distinct(?loc_name); separator = \", \") as ?lieux)\n",
    "WHERE \n",
    "\n",
    "{{\n",
    "                   ?performance dram:R66_included_performed_version_of <{piece_uri}> . \n",
    "                         ?performance a efrbroo:F31_Performance ;\n",
    "                                                      ecrm:P4_has_time-span ?pts .\n",
    "                            ?pts dram:P82a_begin_of_the_begin ?start .\n",
    "  \n",
    "                                    OPTIONAL {{\n",
    "   ?performance ecrm:P7_took_place_at ?location .\n",
    "   ?location  ecrm:P87_is_identified_by ?loc_appelation .\n",
    "   ?loc_appelation rdfs:label ?loc_name .\n",
    "    \n",
    "   \n",
    "    OPTIONAL {{\n",
    "      \n",
    "      \n",
    "      ?location ecrm:P89_falls_within ?parent .\n",
    "     ?parent ecrm:P87_is_identified_by ?parent_appelation .\n",
    "      ?parent_appelation rdfs:label ?parent_label . \n",
    "    \n",
    "    }} \n",
    "    \n",
    "  }}\n",
    "  \n",
    "  BIND (YEAR( ?start) as ?dates)\n",
    "                        \n",
    "}}\n",
    "GROUP BY ?dates ?parent  ?parent_label #?location\n",
    "ORDER BY ?dates\n",
    "\"\"\""
   ]
  },
  {
   "cell_type": "code",
   "execution_count": null,
   "id": "7d9c3ed8-b29c-4abc-93a9-af1c88c8a493",
   "metadata": {
    "jupyter": {
     "source_hidden": true
    }
   },
   "outputs": [],
   "source": [
    "Q_RCF_TEMPLATE = \"\"\"\n",
    "PREFIX rcf: <http://rcf.logilab.fr/>\n",
    "\n",
    "SELECT (?annee as ?dates) (COUNT(?representation) as ?oc) (\"Paris\" as ?lieux) WHERE {{\n",
    "    ?representation rcf:aPourPiece <{piece_uri}>.\n",
    "    ?journee rcf:aPourRepresentation ?representation.\n",
    "    ?journee rcf:aPourDate ?date.\n",
    "    BIND(year(?date) as ?annee)\n",
    "}} GROUP BY ?annee ORDER BY ?annee\n",
    "\"\"\""
   ]
  },
  {
   "cell_type": "code",
   "execution_count": null,
   "id": "5bfe4438-5f5e-464b-b087-ff931017c370",
   "metadata": {
    "jupyter": {
     "source_hidden": true
    }
   },
   "outputs": [],
   "source": [
    "Q_ONSTAGE_TEMPLATE = \"\"\"\n",
    "PREFIX onstage: <https://www.vondel.humanities.uva.nl/onstage/>\n",
    "PREFIX sc: <https://schema.org/>\n",
    "\n",
    "select ?dates (count(?dates) as ?oc) (?place as ?lieux) where {{\n",
    "  \n",
    "  \n",
    "  SERVICE <https://api.lod.uba.uva.nl/datasets/CREATE/ONSTAGE/services/ONSTAGE/sparql> {{\n",
    "\n",
    "  <{piece_uri}> sc:headline ?orig_title .\n",
    "\n",
    "  ?play sc:isBasedOn  <https://www.vondel.humanities.uva.nl/onstage/plays/630> ;\n",
    "         sc:headline ?translat_title .\n",
    "  ?event sc:workPerformed  ?play .\n",
    "  ?event ^sc:subEvent ?parentEvent .\n",
    "  ?parentEvent sc:startDate ?date ;\n",
    "               sc:location ?location .\n",
    "  ?location sc:name ?locName ;\n",
    "      \t\tsc:addressLocality ?locPlace .\n",
    "\n",
    "    BIND (YEAR( ?date) as ?dates)\n",
    "      BIND (CONCAT( ?locPlace, \" - \", ?locName ) as ?place)\n",
    "\n",
    "  }}\n",
    "}}\n",
    "GROUP BY ?dates ?place\n",
    "ORDER BY ?dates\n",
    "\"\"\""
   ]
  },
  {
   "cell_type": "code",
   "execution_count": null,
   "id": "b8514019-ac03-4b46-ba79-0fe9af7f07e9",
   "metadata": {},
   "outputs": [],
   "source": [
    "def _get_data(endpoint, template, origin, piece_uri):\n",
    "    if not piece_uri:\n",
    "        return None\n",
    "    import warnings\n",
    "    warnings.simplefilter(\"ignore\") # Requests to CESAR generates warning.\n",
    "    q = template.format(piece_uri=piece_uri)\n",
    "    d = sparql_dataframe.get(endpoint, q)\n",
    "    d[\"origin\"] = origin\n",
    "    return d"
   ]
  },
  {
   "cell_type": "code",
   "execution_count": null,
   "id": "936df2fd-282a-48bd-8065-61dff812dd49",
   "metadata": {},
   "outputs": [],
   "source": [
    "get_data_cesar = partial(_get_data, \"https://cesar2.huma-num.fr/sparql/\", Q_CESAR_TEMPLATE, \"CÉSAR\")\n",
    "get_data_rcf = partial(_get_data, \"https://rcf-sparql.demo.logilab.fr/sparql/\", Q_RCF_TEMPLATE, \"RCF\")\n",
    "get_data_onstage = partial(_get_data, \"https://api.lod.uba.uva.nl/datasets/CREATE/ONSTAGE/services/ONSTAGE/sparql\", Q_ONSTAGE_TEMPLATE, \"ON_STAGE\")\n",
    "get_data = lambda cesar_uri, rcf_uri, on_stage_uri: pd.concat(filter(lambda x: x is not None, (get_data_cesar(cesar_uri), get_data_rcf(rcf_uri), get_data_onstage(on_stage_uri))))"
   ]
  },
  {
   "cell_type": "code",
   "execution_count": null,
   "id": "6e827096-b055-41b7-9550-ac5c7c92dc87",
   "metadata": {},
   "outputs": [],
   "source": [
    "PIECES = pd.read_csv(\"../works_alignments/rcf_cesare_alignments.csv\").set_index(\"name\").fillna('')\n",
    "PIECES = {k: v for k, v in PIECES.iterrows()}"
   ]
  },
  {
   "cell_type": "code",
   "execution_count": null,
   "id": "173bcdfd-74a9-4650-a107-20ac2193949e",
   "metadata": {},
   "outputs": [],
   "source": [
    "from ipywidgets import interact\n",
    "\n",
    "\n",
    "@interact\n",
    "def plot_data(piece=sorted(PIECES.keys())):\n",
    "    df = get_data(PIECES[piece].cesare_uri, PIECES[piece].rcf_uri, PIECES[piece].onstage_uri)\n",
    "    return px.scatter(df, x=\"dates\", y=\"lieux\", size=\"oc\", color=\"origin\", marginal_x=\"rug\", marginal_y=\"histogram\")"
   ]
  }
 ],
 "metadata": {
  "kernelspec": {
   "display_name": "Python 3 (ipykernel)",
   "language": "python",
   "name": "python3"
  },
  "language_info": {
   "codemirror_mode": {
    "name": "ipython",
    "version": 3
   },
   "file_extension": ".py",
   "mimetype": "text/x-python",
   "name": "python",
   "nbconvert_exporter": "python",
   "pygments_lexer": "ipython3",
   "version": "3.9.2"
  }
 },
 "nbformat": 4,
 "nbformat_minor": 5
}
